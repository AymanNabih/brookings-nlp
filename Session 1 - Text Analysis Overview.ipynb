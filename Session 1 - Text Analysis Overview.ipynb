{
 "cells": [
  {
   "cell_type": "markdown",
   "metadata": {},
   "source": [
    "# Session 1: Text Analysis Overview \n",
    "\n",
    "In this session, we will explore the basics of applying linguistic and grammatical tools to the statistical and contextual analysis of text documents, often the preliminary steps to building text analytics models. We will discuss the creation and maintenance of a corpus, a dataset composed of text documents, and the techniques to preprocess text into units of discourse - paragraphs, sentences, and tokens with lexical models. We will then discuss morphological and contextual approaches to analyzing the contents of a corpus to get a broad overview of the significant terms and phrases it contains. This session will give us the tools we need to begin deeper syntactic and modeling analysis of text in the next sessions. Note that this session will begin with a broad overview of natural language processing, for those who are interested in the general details of text analytics and how they might influence research techniques at The Brookings Institution. "
   ]
  }
 ],
 "metadata": {
  "kernelspec": {
   "display_name": "Python 3",
   "language": "python",
   "name": "python3"
  },
  "language_info": {
   "codemirror_mode": {
    "name": "ipython",
    "version": 3
   },
   "file_extension": ".py",
   "mimetype": "text/x-python",
   "name": "python",
   "nbconvert_exporter": "python",
   "pygments_lexer": "ipython3",
   "version": "3.6.2"
  }
 },
 "nbformat": 4,
 "nbformat_minor": 2
}
